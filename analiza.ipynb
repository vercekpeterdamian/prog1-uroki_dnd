{
 "cells": [
  {
   "cell_type": "markdown",
   "metadata": {},
   "source": [
    "# Analiza podatkov za projektno nalogo\n",
    "\n",
    "Pozdravljeni,\n",
    "v tem zvežčiču bom analiziral uroke, katere sem pobral iz spletne strani [dnd5e][1]. Analiza teh bo precejšen iziv, saj za vsakim urokom leži poleg podrobnega opisa tudi interpretacija igralca, voditelja igre in iznajdljivost obeh. Pretehtali bomo torej lahko merljive zahteve in omejitve, za natančnejšo analizo je pa priporočljiva vztrajnost v obliki igre, saj le tako srečamo nešteto scenarijev in uporab, ki jih seznam sam ne more povzeti. Poleg tega zna v napoto hoditi tudi spletna stran, saj je ta delo prostovoljcev in vsebuje napake. Opažene nedoslednosti lahko omenite na [forumu][3].\n",
    "\n",
    "## Nekaj malega o igri\n",
    "\n",
    "Najpomembnejši v igri so igralci z njihovimi junaki. Junak je oseba, kateri igralec določi raso, ceh, ozadje in tekom igre še veliko več. Kar se tiče izdelave junaka je igralcem dana precejšna svoboda, ampak za lažji potek in uravnovešenost igre se je pametno držati v naprej podanih okvirjev. Tako junaki pridobijo kompetence za spopadanje z nalogami, ki jim jih zadajo [NPC][2]-ji in zmožnost bojevanja. Tu imajo uroki pomembno vlogo, saj jih igralec lahko uporablja bodisi na vsakodnevni ravni za razreševanje problemov bodisi v boju za okrevanje in zadajanje škode. \n",
    "\n",
    "Pomembna lastnost uroka je tudi stopnja, ki mu je dodeljena. Na določeni ravni junaka, so nam na voljo le uroki do vključno neke stopnje. Če to ponazorim: junak, ki je šele začel z igro bo lahko uporabljal le uroke na ničelni in prvi stopnji, proti koncu igre pa bo zmožen izvesti tudi uroke na deveti stopnji, ki so neprimerno močnejši.\n",
    "\n",
    "Vsak urok ima osnovne karakteristike, ki so: \n",
    "\n",
    "- ime (`uroki.csv`), \n",
    "- šolo čaranja (`sola.csv`), \n",
    "- čas potreben za izvedbo uroka (`urocanje.csv`), \n",
    "- možnost izvedbe uroka v obliki rituala (`uroki.csv`),\n",
    "- doseg (`doseg.csv`), \n",
    "- čas, ko je urok aktiven (`efekt.csv`),\n",
    "- in za izvedbo potrebne komponente (snovne, gibalne in glasovne) (`uroki.csv`),\n",
    "- stopnjo uroka, ki je med 0 in 9 (`uroki.csv`).\n",
    "\n",
    "Te podatke sem pobral s svetovnega spleta in jih uredil v `csv` datoteke. Poleg teh lastnosti imajo uroki tudi natančne opise, do katerih lahko dostopate preko `http://dnd5e.wikidot.com/spell:{urok_href}`, kjer je za vsak urok `urok_href` možno najti v datoteki `uroki.csv`.\n",
    "\n",
    "\n",
    "\n",
    "[1]: <http://dnd5e.wikidot.com/spells> \"Uroki v D&D\"\n",
    "[2]: <https://en.wikipedia.org/wiki/Non-player_character> \"Več o NPC-jih\"\n",
    "[3]: <http://dnd5e.wikidot.com/forum:start> \"Forum za uporabnike in moderatorje\""
   ]
  },
  {
   "cell_type": "code",
   "execution_count": 309,
   "metadata": {},
   "outputs": [],
   "source": [
    "import pandas as pd"
   ]
  },
  {
   "cell_type": "code",
   "execution_count": 310,
   "metadata": {},
   "outputs": [],
   "source": [
    "uroki = pd.read_csv('podatki/uroki.csv').rename(columns={'sola': 'sola_id', 'urocanje': 'urocanje_id', 'doseg': 'doseg_id', 'efekt': 'efekt_id'})\n",
    "sola = pd.read_csv('podatki/sola.csv').rename(columns={'ime': 'sola', 'id': 'sola_id'})\n",
    "urocanje = pd.read_csv('podatki/urocanje.csv').rename(columns={'ime': 'urocanje', 'id': 'urocanje_id'})\n",
    "doseg = pd.read_csv('podatki/doseg.csv').rename(columns={'ime': 'doseg', 'id': 'doseg_id'})\n",
    "efekt = pd.read_csv('podatki/efekt.csv').rename(columns={'ime': 'efekt', 'id': 'efekt_id'})"
   ]
  },
  {
   "cell_type": "code",
   "execution_count": 311,
   "metadata": {},
   "outputs": [],
   "source": [
    "uroki_polni = pd.merge(\n",
    "    pd.merge(\n",
    "        pd.merge(\n",
    "            pd.merge(\n",
    "                uroki, \n",
    "                sola, \n",
    "                on='sola_id'), \n",
    "            urocanje, \n",
    "            on='urocanje_id'), \n",
    "        doseg, \n",
    "        on='doseg_id'),\n",
    "    efekt,\n",
    "    on='efekt_id')"
   ]
  },
  {
   "cell_type": "code",
   "execution_count": 312,
   "metadata": {},
   "outputs": [],
   "source": [
    "del uroki_polni['sola_id']\n",
    "del uroki_polni['urocanje_id']\n",
    "del uroki_polni['doseg_id']\n",
    "del uroki_polni['efekt_id']"
   ]
  },
  {
   "cell_type": "code",
   "execution_count": 313,
   "metadata": {},
   "outputs": [
    {
     "data": {
      "text/html": [
       "<div>\n",
       "<style scoped>\n",
       "    .dataframe tbody tr th:only-of-type {\n",
       "        vertical-align: middle;\n",
       "    }\n",
       "\n",
       "    .dataframe tbody tr th {\n",
       "        vertical-align: top;\n",
       "    }\n",
       "\n",
       "    .dataframe thead th {\n",
       "        text-align: right;\n",
       "    }\n",
       "</style>\n",
       "<table border=\"1\" class=\"dataframe\">\n",
       "  <thead>\n",
       "    <tr style=\"text-align: right;\">\n",
       "      <th></th>\n",
       "      <th>urok_href</th>\n",
       "      <th>urok</th>\n",
       "      <th>ritual</th>\n",
       "      <th>verbal</th>\n",
       "      <th>somatic</th>\n",
       "      <th>material</th>\n",
       "      <th>stopnja</th>\n",
       "      <th>sola</th>\n",
       "      <th>urocanje</th>\n",
       "      <th>doseg</th>\n",
       "      <th>efekt</th>\n",
       "    </tr>\n",
       "  </thead>\n",
       "  <tbody>\n",
       "    <tr>\n",
       "      <th>0</th>\n",
       "      <td>acid-splash</td>\n",
       "      <td>Acid Splash</td>\n",
       "      <td>False</td>\n",
       "      <td>True</td>\n",
       "      <td>True</td>\n",
       "      <td>False</td>\n",
       "      <td>0</td>\n",
       "      <td>conjuration</td>\n",
       "      <td>1 action</td>\n",
       "      <td>60 feet</td>\n",
       "      <td>instantaneou</td>\n",
       "    </tr>\n",
       "    <tr>\n",
       "      <th>1</th>\n",
       "      <td>ice-knife</td>\n",
       "      <td>Ice Knife</td>\n",
       "      <td>False</td>\n",
       "      <td>False</td>\n",
       "      <td>True</td>\n",
       "      <td>True</td>\n",
       "      <td>1</td>\n",
       "      <td>conjuration</td>\n",
       "      <td>1 action</td>\n",
       "      <td>60 feet</td>\n",
       "      <td>instantaneou</td>\n",
       "    </tr>\n",
       "    <tr>\n",
       "      <th>2</th>\n",
       "      <td>planar-ally</td>\n",
       "      <td>Planar Ally</td>\n",
       "      <td>False</td>\n",
       "      <td>True</td>\n",
       "      <td>True</td>\n",
       "      <td>False</td>\n",
       "      <td>6</td>\n",
       "      <td>conjuration</td>\n",
       "      <td>1 action</td>\n",
       "      <td>60 feet</td>\n",
       "      <td>instantaneou</td>\n",
       "    </tr>\n",
       "    <tr>\n",
       "      <th>3</th>\n",
       "      <td>frostbite</td>\n",
       "      <td>Frostbite</td>\n",
       "      <td>False</td>\n",
       "      <td>True</td>\n",
       "      <td>True</td>\n",
       "      <td>False</td>\n",
       "      <td>0</td>\n",
       "      <td>evocation</td>\n",
       "      <td>1 action</td>\n",
       "      <td>60 feet</td>\n",
       "      <td>instantaneou</td>\n",
       "    </tr>\n",
       "    <tr>\n",
       "      <th>4</th>\n",
       "      <td>ray-of-frost</td>\n",
       "      <td>Ray of Frost</td>\n",
       "      <td>False</td>\n",
       "      <td>True</td>\n",
       "      <td>True</td>\n",
       "      <td>False</td>\n",
       "      <td>0</td>\n",
       "      <td>evocation</td>\n",
       "      <td>1 action</td>\n",
       "      <td>60 feet</td>\n",
       "      <td>instantaneou</td>\n",
       "    </tr>\n",
       "    <tr>\n",
       "      <th>...</th>\n",
       "      <td>...</td>\n",
       "      <td>...</td>\n",
       "      <td>...</td>\n",
       "      <td>...</td>\n",
       "      <td>...</td>\n",
       "      <td>...</td>\n",
       "      <td>...</td>\n",
       "      <td>...</td>\n",
       "      <td>...</td>\n",
       "      <td>...</td>\n",
       "      <td>...</td>\n",
       "    </tr>\n",
       "    <tr>\n",
       "      <th>556</th>\n",
       "      <td>snare</td>\n",
       "      <td>Snare</td>\n",
       "      <td>False</td>\n",
       "      <td>True</td>\n",
       "      <td>True</td>\n",
       "      <td>True</td>\n",
       "      <td>1</td>\n",
       "      <td>abjuration</td>\n",
       "      <td>1 minute</td>\n",
       "      <td>touch</td>\n",
       "      <td>until dispelled or triggered</td>\n",
       "    </tr>\n",
       "    <tr>\n",
       "      <th>557</th>\n",
       "      <td>symbol</td>\n",
       "      <td>Symbol</td>\n",
       "      <td>False</td>\n",
       "      <td>True</td>\n",
       "      <td>True</td>\n",
       "      <td>True</td>\n",
       "      <td>7</td>\n",
       "      <td>abjuration</td>\n",
       "      <td>1 minute</td>\n",
       "      <td>touch</td>\n",
       "      <td>until dispelled or triggered</td>\n",
       "    </tr>\n",
       "    <tr>\n",
       "      <th>558</th>\n",
       "      <td>forbiddance</td>\n",
       "      <td>Forbiddance</td>\n",
       "      <td>True</td>\n",
       "      <td>True</td>\n",
       "      <td>True</td>\n",
       "      <td>True</td>\n",
       "      <td>6</td>\n",
       "      <td>abjuration</td>\n",
       "      <td>10 minute</td>\n",
       "      <td>touch</td>\n",
       "      <td>1 day</td>\n",
       "    </tr>\n",
       "    <tr>\n",
       "      <th>559</th>\n",
       "      <td>tsunami</td>\n",
       "      <td>Tsunami</td>\n",
       "      <td>False</td>\n",
       "      <td>True</td>\n",
       "      <td>True</td>\n",
       "      <td>False</td>\n",
       "      <td>8</td>\n",
       "      <td>conjuration</td>\n",
       "      <td>1 action</td>\n",
       "      <td>sight</td>\n",
       "      <td>concentration up to 6 round</td>\n",
       "    </tr>\n",
       "    <tr>\n",
       "      <th>560</th>\n",
       "      <td>dream-of-the-blue-veil</td>\n",
       "      <td>Dream of the Blue Veil</td>\n",
       "      <td>False</td>\n",
       "      <td>True</td>\n",
       "      <td>True</td>\n",
       "      <td>True</td>\n",
       "      <td>7</td>\n",
       "      <td>conjuration</td>\n",
       "      <td>10 minute</td>\n",
       "      <td>20 feet</td>\n",
       "      <td>6 hour</td>\n",
       "    </tr>\n",
       "  </tbody>\n",
       "</table>\n",
       "<p>561 rows × 11 columns</p>\n",
       "</div>"
      ],
      "text/plain": [
       "                  urok_href                    urok  ritual  verbal  somatic  \\\n",
       "0               acid-splash             Acid Splash   False    True     True   \n",
       "1                 ice-knife               Ice Knife   False   False     True   \n",
       "2               planar-ally             Planar Ally   False    True     True   \n",
       "3                 frostbite               Frostbite   False    True     True   \n",
       "4              ray-of-frost            Ray of Frost   False    True     True   \n",
       "..                      ...                     ...     ...     ...      ...   \n",
       "556                   snare                   Snare   False    True     True   \n",
       "557                  symbol                  Symbol   False    True     True   \n",
       "558             forbiddance             Forbiddance    True    True     True   \n",
       "559                 tsunami                 Tsunami   False    True     True   \n",
       "560  dream-of-the-blue-veil  Dream of the Blue Veil   False    True     True   \n",
       "\n",
       "     material  stopnja         sola   urocanje    doseg  \\\n",
       "0       False        0  conjuration   1 action  60 feet   \n",
       "1        True        1  conjuration   1 action  60 feet   \n",
       "2       False        6  conjuration   1 action  60 feet   \n",
       "3       False        0    evocation   1 action  60 feet   \n",
       "4       False        0    evocation   1 action  60 feet   \n",
       "..        ...      ...          ...        ...      ...   \n",
       "556      True        1   abjuration   1 minute    touch   \n",
       "557      True        7   abjuration   1 minute    touch   \n",
       "558      True        6   abjuration  10 minute    touch   \n",
       "559     False        8  conjuration   1 action    sight   \n",
       "560      True        7  conjuration  10 minute  20 feet   \n",
       "\n",
       "                            efekt  \n",
       "0                    instantaneou  \n",
       "1                    instantaneou  \n",
       "2                    instantaneou  \n",
       "3                    instantaneou  \n",
       "4                    instantaneou  \n",
       "..                            ...  \n",
       "556  until dispelled or triggered  \n",
       "557  until dispelled or triggered  \n",
       "558                         1 day  \n",
       "559   concentration up to 6 round  \n",
       "560                        6 hour  \n",
       "\n",
       "[561 rows x 11 columns]"
      ]
     },
     "execution_count": 313,
     "metadata": {},
     "output_type": "execute_result"
    }
   ],
   "source": [
    "uroki_polni"
   ]
  },
  {
   "cell_type": "markdown",
   "metadata": {},
   "source": [
    "## Vsakodnevna uporaba\n",
    "\n",
    "V igri je vsak dan malo drugačen, a po svoje vedno pester, zato se vedno izvaja neka coprnija, ampak s tem se ojavi precejšen problem, saj je število urokov, ki jih lahko izvedemo na dan omejeno. Imamo pa vseeno možnost izvedbe uroka v ritualni obliki. To nam omogoči dobiti vse prednosti uroka na osnovni ravni, če ga uročamo 10 minut dlje. Žal pa možnost ritualnega uročanja ni dana vsakemu uroku, zato nas zanima koliko ritualnih urokov obstaja za vsako stopnjo, ter kolikšen je delež le-teh. S temi informacijami se bomo dokopali do dejanskega arsenala urokov, ki ga imamo vsak dan.\n",
    "\n",
    "Z upoštevanjem dejstva, da nam lažji uroki vedno ostanejo na voljo, da slehernega lahko uporabimo v nešteto okoliščinah ter da je vsakodnevnih problemov, ki so razrešljivi z magijo manj kot bi si mislili, postavim hipotezo, da število na novo pridobljenih urokov z vsako stopnjo pada.\n",
    "\n",
    "Tu bi še dodal, da mnogo pravil, ki jih omenjam, velja le za ceh *Cleric*, saj ta na začetku vsakega dne izbere uroke, ki so mu na voljo tisti dan na dani junakovi ravni. Pri preostalih cehih izgleda pridobivanje urokov zelo drugače."
   ]
  },
  {
   "cell_type": "code",
   "execution_count": 314,
   "metadata": {},
   "outputs": [],
   "source": [
    "ritualni = uroki_polni[uroki_polni.ritual]"
   ]
  },
  {
   "cell_type": "code",
   "execution_count": 315,
   "metadata": {},
   "outputs": [
    {
     "data": {
      "text/plain": [
       "<AxesSubplot:xlabel='stopnja'>"
      ]
     },
     "execution_count": 315,
     "metadata": {},
     "output_type": "execute_result"
    },
    {
     "data": {
      "image/png": "[encoded data removed]",
      "text/plain": [
       "<Figure size 432x288 with 1 Axes>"
      ]
     },
     "metadata": {
      "needs_background": "light"
     },
     "output_type": "display_data"
    }
   ],
   "source": [
    "ritualni.groupby('stopnja').size().plot.bar()"
   ]
  },
  {
   "cell_type": "markdown",
   "metadata": {},
   "source": [
    "Sedaj smo prebrali uroke in izluščili tiste, ki jih lahko izvedemo kot ritual. Na grafu opazimo, da se število urokov po stopnji manjša in da urokov ničelne stopnje oz. *cantrip*-ov sploh ni. Razlog za to je, da število izvedb urokov ničelne stopnje ni omejeno in varčevanje v obliki rituala ni potrebno. Kako pa se po stopnjah njihovo število pomeri s številom vseh urokov? Ker določenih stopenj ritualnih urokov sploh nimamo, bodo te stopnje nadalje izpuščene."
   ]
  },
  {
   "cell_type": "code",
   "execution_count": 316,
   "metadata": {},
   "outputs": [
    {
     "data": {
      "text/plain": [
       "<AxesSubplot:xlabel='stopnja'>"
      ]
     },
     "execution_count": 316,
     "metadata": {},
     "output_type": "execute_result"
    },
    {
     "data": {
      "image/png": "[encoded data removed]",
      "text/plain": [
       "<Figure size 432x288 with 1 Axes>"
      ]
     },
     "metadata": {
      "needs_background": "light"
     },
     "output_type": "display_data"
    }
   ],
   "source": [
    "a = ritualni.groupby('stopnja').count()['urok']\n",
    "b = uroki_polni.groupby('stopnja').count()['urok']\n",
    "razmerje_ritual = pd.merge(b, a, on='stopnja')\n",
    "razmerje_ritual['razmerje'] = razmerje_ritual['urok_y'] / razmerje_ritual['urok_x']\n",
    "razmerje_ritual = razmerje_ritual.drop(['urok_x', 'urok_y'], axis=1)\n",
    "razmerje_ritual.plot.bar()"
   ]
  },
  {
   "cell_type": "markdown",
   "metadata": {},
   "source": [
    "Naposled opazimo, da tudi razmerja $ \\frac{\\# \\text{ritualnih neke stopnje}}{\\# \\text{vseh urokov neke stopnje}} $ pada s stopnjo uroka. Izstopata peta in šesta stopnja, kjer se razmerje poveča napram četrti stopnji."
   ]
  },
  {
   "cell_type": "code",
   "execution_count": 317,
   "metadata": {},
   "outputs": [
    {
     "data": {
      "text/plain": [
       "<AxesSubplot:xlabel='stopnja'>"
      ]
     },
     "execution_count": 317,
     "metadata": {},
     "output_type": "execute_result"
    },
    {
     "data": {
      "image/png": "[encoded data removed]",
      "text/plain": [
       "<Figure size 432x288 with 1 Axes>"
      ]
     },
     "metadata": {
      "needs_background": "light"
     },
     "output_type": "display_data"
    }
   ],
   "source": [
    "uroki_polni.groupby('stopnja').size().plot.bar()"
   ]
  },
  {
   "cell_type": "markdown",
   "metadata": {},
   "source": [
    "Podoben vzorec zasledimo tudi v skupnem številu urokov po stopnjah. Razlage, če obstaja, ne znam podati."
   ]
  },
  {
   "cell_type": "markdown",
   "metadata": {},
   "source": [
    "## Uročanje\n",
    "\n",
    "Uročanje nam pove koliko časa potrebujemo, da nek urok izvedemo. Seveda bi radi iz danih podatkov izčrpali kar se le da veliko, na primer kaj je najpogostejši čas uročanja, kolikšen je povprečen čas in koliko časa bi potrebovali, da bi zaporedoma izvedli prav vse uroke?"
   ]
  },
  {
   "cell_type": "code",
   "execution_count": 318,
   "metadata": {},
   "outputs": [
    {
     "data": {
      "text/html": [
       "<div>\n",
       "<style scoped>\n",
       "    .dataframe tbody tr th:only-of-type {\n",
       "        vertical-align: middle;\n",
       "    }\n",
       "\n",
       "    .dataframe tbody tr th {\n",
       "        vertical-align: top;\n",
       "    }\n",
       "\n",
       "    .dataframe thead th {\n",
       "        text-align: right;\n",
       "    }\n",
       "</style>\n",
       "<table border=\"1\" class=\"dataframe\">\n",
       "  <thead>\n",
       "    <tr style=\"text-align: right;\">\n",
       "      <th></th>\n",
       "      <th>urocanje</th>\n",
       "      <th>urocanje_id</th>\n",
       "    </tr>\n",
       "  </thead>\n",
       "  <tbody>\n",
       "    <tr>\n",
       "      <th>0</th>\n",
       "      <td>1 action</td>\n",
       "      <td>1</td>\n",
       "    </tr>\n",
       "    <tr>\n",
       "      <th>1</th>\n",
       "      <td>1 bonus action</td>\n",
       "      <td>2</td>\n",
       "    </tr>\n",
       "    <tr>\n",
       "      <th>2</th>\n",
       "      <td>1 minute</td>\n",
       "      <td>3</td>\n",
       "    </tr>\n",
       "    <tr>\n",
       "      <th>3</th>\n",
       "      <td>1 reaction</td>\n",
       "      <td>4</td>\n",
       "    </tr>\n",
       "    <tr>\n",
       "      <th>4</th>\n",
       "      <td>1 hour</td>\n",
       "      <td>5</td>\n",
       "    </tr>\n",
       "    <tr>\n",
       "      <th>5</th>\n",
       "      <td>10 minute</td>\n",
       "      <td>6</td>\n",
       "    </tr>\n",
       "    <tr>\n",
       "      <th>6</th>\n",
       "      <td>reaction</td>\n",
       "      <td>7</td>\n",
       "    </tr>\n",
       "    <tr>\n",
       "      <th>7</th>\n",
       "      <td>self</td>\n",
       "      <td>8</td>\n",
       "    </tr>\n",
       "    <tr>\n",
       "      <th>8</th>\n",
       "      <td>1 action or 8 hour</td>\n",
       "      <td>9</td>\n",
       "    </tr>\n",
       "    <tr>\n",
       "      <th>9</th>\n",
       "      <td>8 hour</td>\n",
       "      <td>10</td>\n",
       "    </tr>\n",
       "    <tr>\n",
       "      <th>10</th>\n",
       "      <td>24 hour</td>\n",
       "      <td>11</td>\n",
       "    </tr>\n",
       "    <tr>\n",
       "      <th>11</th>\n",
       "      <td>special</td>\n",
       "      <td>12</td>\n",
       "    </tr>\n",
       "    <tr>\n",
       "      <th>12</th>\n",
       "      <td>12 hour</td>\n",
       "      <td>13</td>\n",
       "    </tr>\n",
       "  </tbody>\n",
       "</table>\n",
       "</div>"
      ],
      "text/plain": [
       "              urocanje  urocanje_id\n",
       "0             1 action            1\n",
       "1       1 bonus action            2\n",
       "2             1 minute            3\n",
       "3           1 reaction            4\n",
       "4               1 hour            5\n",
       "5            10 minute            6\n",
       "6             reaction            7\n",
       "7                 self            8\n",
       "8   1 action or 8 hour            9\n",
       "9               8 hour           10\n",
       "10             24 hour           11\n",
       "11             special           12\n",
       "12             12 hour           13"
      ]
     },
     "execution_count": 318,
     "metadata": {},
     "output_type": "execute_result"
    }
   ],
   "source": [
    "urocanje"
   ]
  },
  {
   "cell_type": "markdown",
   "metadata": {},
   "source": [
    "Preden nadaljujemo, moramo izračunati še dolžino *action*-a, *bonus action*-a in *reaction*-a.\n",
    "\n",
    "Boj v igri poteka po potezah, vsaka traja okvirno 6 sekund, tekom te pa imamo na voljo premik, napad ali dodatni premik in pomožen napad.\n",
    "Definiramo si še funkcijo $ t: \\text{dejanje} \\mapsto \\text{čas} $ za katero velja sledeč zapis:\n",
    "\n",
    "$$ t(\\text{poteza}) = t(\\text{premik}) + t(\\text{napad/dodatni premik}) + t(\\text{pomožen napad}) $$\n",
    "\n",
    "Standardni premik znaša 10 metrov.\n",
    "S pomočjo štoparice in cimra sem izmeril, da sta za premik, ko si obtežen, potrebni okvirno 2 sekundi in pol. Dodatni premik z letečim startom pa naposled zahteva le sekundo in pol. Ker je možno izvesti enaki potezi, ki se razlikujeta le v drugem delu, sklepamo, da dodaten premik porabi isto časa kot uročanje, torej 1 *action*. Ugotovili smo, da je $ t(\\text{premik}) = 2,5s $ in $ t(\\text{napad/dodatni premik}) = 1,5s $. Ostane nam še preprost račun:\n",
    "\n",
    "$$ 6 s = 2,5 s + 1,5 s + t(\\text{dodaten napad}) $$\n",
    "\n",
    "$$ \\Rightarrow t(\\text{dodaten napad}) = 2s $$\n",
    "\n",
    "Dolžine *reaction*-a nam ni potrebno računati, saj je uročanje enako dolgo 1 *action*, izvedba pa hipna ob določenem dogodku.\n",
    "\n",
    "Sedaj, ko smo se s pomočjo znanstvenih metod dokopali do vseh neznank lahko računamo dalje. Prvo poglejmo kateri čas je najpogostejši."
   ]
  },
  {
   "cell_type": "code",
   "execution_count": 319,
   "metadata": {},
   "outputs": [],
   "source": [
    "urocanje_presteto = uroki_polni.groupby('urocanje').size()"
   ]
  },
  {
   "cell_type": "code",
   "execution_count": 320,
   "metadata": {},
   "outputs": [
    {
     "data": {
      "text/plain": [
       "<AxesSubplot:xlabel='urocanje'>"
      ]
     },
     "execution_count": 320,
     "metadata": {},
     "output_type": "execute_result"
    },
    {
     "data": {
      "image/png": "[encoded data removed]",
      "text/plain": [
       "<Figure size 432x288 with 1 Axes>"
      ]
     },
     "metadata": {
      "needs_background": "light"
     },
     "output_type": "display_data"
    }
   ],
   "source": [
    "urocanje_presteto.plot.bar()"
   ]
  },
  {
   "cell_type": "markdown",
   "metadata": {},
   "source": [
    "### Najpogostejši čas\n",
    "\n",
    "Najpogostejši čas uročanja je brez dvoma 1 *action*. Na tej točki pa se pokažejo trije problemi:\n",
    " 1. *1 action or 8 hour*: pojavi se en urok, ki ga je mogoče izvesti bodisi v 1.5 sekunde bodisi v osmih urah. Učinek se glede na čas uročanja spremeni, zato bomo kasneje upoštevali oba.\n",
    " 2. *self* in *special*: ker to tudi v igri nista časovni enoti, ugibam, da gre za napako na spletni strani. "
   ]
  },
  {
   "cell_type": "code",
   "execution_count": 321,
   "metadata": {},
   "outputs": [
    {
     "data": {
      "text/html": [
       "<div>\n",
       "<style scoped>\n",
       "    .dataframe tbody tr th:only-of-type {\n",
       "        vertical-align: middle;\n",
       "    }\n",
       "\n",
       "    .dataframe tbody tr th {\n",
       "        vertical-align: top;\n",
       "    }\n",
       "\n",
       "    .dataframe thead th {\n",
       "        text-align: right;\n",
       "    }\n",
       "</style>\n",
       "<table border=\"1\" class=\"dataframe\">\n",
       "  <thead>\n",
       "    <tr style=\"text-align: right;\">\n",
       "      <th></th>\n",
       "      <th>urok_href</th>\n",
       "      <th>urok</th>\n",
       "      <th>ritual</th>\n",
       "      <th>verbal</th>\n",
       "      <th>somatic</th>\n",
       "      <th>material</th>\n",
       "      <th>stopnja</th>\n",
       "      <th>sola</th>\n",
       "      <th>urocanje</th>\n",
       "      <th>doseg</th>\n",
       "      <th>efekt</th>\n",
       "    </tr>\n",
       "  </thead>\n",
       "  <tbody>\n",
       "    <tr>\n",
       "      <th>436</th>\n",
       "      <td>melfs-minute-meteors</td>\n",
       "      <td>Melf's Minute Meteors</td>\n",
       "      <td>False</td>\n",
       "      <td>True</td>\n",
       "      <td>True</td>\n",
       "      <td>True</td>\n",
       "      <td>3</td>\n",
       "      <td>evocation</td>\n",
       "      <td>self</td>\n",
       "      <td>120 feet</td>\n",
       "      <td>concentration up to 10 minute</td>\n",
       "    </tr>\n",
       "  </tbody>\n",
       "</table>\n",
       "</div>"
      ],
      "text/plain": [
       "                urok_href                   urok  ritual  verbal  somatic  \\\n",
       "436  melfs-minute-meteors  Melf's Minute Meteors   False    True     True   \n",
       "\n",
       "     material  stopnja       sola urocanje     doseg  \\\n",
       "436      True        3  evocation     self  120 feet   \n",
       "\n",
       "                             efekt  \n",
       "436  concentration up to 10 minute  "
      ]
     },
     "execution_count": 321,
     "metadata": {},
     "output_type": "execute_result"
    }
   ],
   "source": [
    "uroki_polni[uroki_polni.urocanje == 'self']"
   ]
  },
  {
   "cell_type": "markdown",
   "metadata": {},
   "source": [
    "To je urok, ki naj bi imel za uročanje *self*, na [spletu][1] pa hitro ugotovimo, da je dejansko uročanje 1 *action*.\n",
    "\n",
    "[1]: <http://dnd5e.wikidot.com/spell:melfs-minute-meteors> \"Podroben opis uroka\""
   ]
  },
  {
   "cell_type": "code",
   "execution_count": 322,
   "metadata": {},
   "outputs": [
    {
     "data": {
      "text/html": [
       "<div>\n",
       "<style scoped>\n",
       "    .dataframe tbody tr th:only-of-type {\n",
       "        vertical-align: middle;\n",
       "    }\n",
       "\n",
       "    .dataframe tbody tr th {\n",
       "        vertical-align: top;\n",
       "    }\n",
       "\n",
       "    .dataframe thead th {\n",
       "        text-align: right;\n",
       "    }\n",
       "</style>\n",
       "<table border=\"1\" class=\"dataframe\">\n",
       "  <thead>\n",
       "    <tr style=\"text-align: right;\">\n",
       "      <th></th>\n",
       "      <th>urok_href</th>\n",
       "      <th>urok</th>\n",
       "      <th>ritual</th>\n",
       "      <th>verbal</th>\n",
       "      <th>somatic</th>\n",
       "      <th>material</th>\n",
       "      <th>stopnja</th>\n",
       "      <th>sola</th>\n",
       "      <th>urocanje</th>\n",
       "      <th>doseg</th>\n",
       "      <th>efekt</th>\n",
       "    </tr>\n",
       "  </thead>\n",
       "  <tbody>\n",
       "    <tr>\n",
       "      <th>506</th>\n",
       "      <td>soul-cage</td>\n",
       "      <td>Soul Cage</td>\n",
       "      <td>False</td>\n",
       "      <td>True</td>\n",
       "      <td>True</td>\n",
       "      <td>True</td>\n",
       "      <td>6</td>\n",
       "      <td>necromancy</td>\n",
       "      <td>special</td>\n",
       "      <td>60 feet</td>\n",
       "      <td>8 hour</td>\n",
       "    </tr>\n",
       "  </tbody>\n",
       "</table>\n",
       "</div>"
      ],
      "text/plain": [
       "     urok_href       urok  ritual  verbal  somatic  material  stopnja  \\\n",
       "506  soul-cage  Soul Cage   False    True     True      True        6   \n",
       "\n",
       "           sola urocanje    doseg   efekt  \n",
       "506  necromancy  special  60 feet  8 hour  "
      ]
     },
     "execution_count": 322,
     "metadata": {},
     "output_type": "execute_result"
    }
   ],
   "source": [
    "uroki_polni[uroki_polni.urocanje == 'special']"
   ]
  },
  {
   "cell_type": "markdown",
   "metadata": {},
   "source": [
    "Tu prav tako na [spetu][1] ugotovimo, da je pravilno uročanje *reaction*.\n",
    "\n",
    "[1]: <http://dnd5e.wikidot.com/spell:soul-cage> \"Podroben opis uroka\""
   ]
  },
  {
   "cell_type": "markdown",
   "metadata": {},
   "source": [
    "Oboroženi z vsem tem znanjem lahko izračunamo skupen čas teoretičnega uročanja."
   ]
  },
  {
   "cell_type": "code",
   "execution_count": 323,
   "metadata": {},
   "outputs": [
    {
     "data": {
      "text/plain": [
       "urocanje\n",
       "1 action              431\n",
       "1 action or 8 hour      1\n",
       "1 bonus action         47\n",
       "1 hour                 12\n",
       "1 minute               39\n",
       "1 reaction              7\n",
       "10 minute              18\n",
       "12 hour                 1\n",
       "24 hour                 1\n",
       "8 hour                  1\n",
       "reaction                1\n",
       "self                    1\n",
       "special                 1\n",
       "dtype: int64"
      ]
     },
     "execution_count": 323,
     "metadata": {},
     "output_type": "execute_result"
    }
   ],
   "source": [
    "urocanje_presteto"
   ]
  },
  {
   "cell_type": "markdown",
   "metadata": {},
   "source": [
    "### Skupen čas\n",
    "\n",
    "$$ 442 \\cdot 1.5 s + 47 \\cdot 2 s + 64 \\cdot 3600 s + 18 \\cdot 600 s = 241957 s $$\n",
    "\n",
    "Seštevek v sekundah preveden na bolj otipljive količine nam da: 2 dneva 19 ur 12 minut in 37 sekund!\n",
    "Presenetljivo dolgo, vendar ne spreglejte, da en dan in 20 ur porabimo za uročanje le treh urokov.\n",
    "\n",
    "### Povprečen čas\n",
    "\n",
    "Uroke imamo razporejene v oštevilčen seznam, zato brez težav definiramo zaporedje $ (\\text{urok}_n)_{n \\in \\nu} $, kjer je $ \\nu $ množica indeksov urokov.\n",
    "Povprečen čas tedaj dobimo s preprosto formulo:\n",
    "\n",
    "$$ \\frac{1}{|\\nu|} \\sum_{n \\in \\nu} t(\\text{urok}_n) $$\n",
    "\n",
    "Za $n$ vzamemo skupno število urokov, ki je 561 in dobimo 431,3 s = 7 min 11 s.\n",
    "\n",
    "Podrobnejša analiza bo prišla v poštev čez eno leto, ko bom seznanjen z več statistike."
   ]
  },
  {
   "cell_type": "markdown",
   "metadata": {},
   "source": [
    "## Efekt\n",
    "\n",
    "Po uspešni izvedbi uroka njega efekt traja različno dolgo, lahko v trenutku sprosti neznanske količine energije, za vedno spremeni svet, za kratek čas vzpostavi povezavo z božanstvom, za leto dni obogati sadove narave ali pa kaj čisto drugega. Analiza teh podatkov zaradi nezmožnosti kvanticiranja moči oz. vpliva. Za preprost primer lahko podam uroka *Create or Destroy Water* in *Cure Wounds*. Prvi ustvari vsaj 50l vode, drugi pa pozdravi manjšo poškodbo. Kateri o teh je močnejši in uporabnejši je povsem odvisno od okoliščin."
   ]
  },
  {
   "cell_type": "markdown",
   "metadata": {},
   "source": [
    "## Šola\n",
    "\n",
    "Šola v grobem razloči uroke glede na njihov učinek. Ne igra večje vloge v poteku igre, vseeno pa pomaga pri interpretaciji uroka. Zaradi manjše vplivnosti ugibam, da ne bo večjih razmakov med številom urokov določene šole v splošnem in znotraj posameznih stopenj. V kolikor tedve hipotezi ne zdržita, bom skušal ugotoviti, katera od šol je najbolj zastopana znotraj posamezne stopnje in nasploh."
   ]
  },
  {
   "cell_type": "code",
   "execution_count": 443,
   "metadata": {},
   "outputs": [
    {
     "data": {
      "image/png": "[encoded data removed]",
      "text/plain": [
       "<Figure size 432x288 with 1 Axes>"
      ]
     },
     "metadata": {},
     "output_type": "display_data"
    }
   ],
   "source": [
    "soladf = uroki_polni.loc[:, ('stopnja', 'sola')]\n",
    "soladf.groupby('sola').count().plot.pie(y='stopnja', legend=False)\n",
    "fig.set_facecolor('lightgrey')"
   ]
  },
  {
   "cell_type": "markdown",
   "metadata": {},
   "source": [
    "Prva hipoteza očitno ne zdrži."
   ]
  },
  {
   "cell_type": "code",
   "execution_count": 415,
   "metadata": {},
   "outputs": [
    {
     "data": {
      "text/plain": [
       "<AxesSubplot:>"
      ]
     },
     "execution_count": 415,
     "metadata": {},
     "output_type": "execute_result"
    },
    {
     "data": {
      "image/png": "[encoded data removed]",
      "text/plain": [
       "<Figure size 432x288 with 1 Axes>"
      ]
     },
     "metadata": {
      "needs_background": "light"
     },
     "output_type": "display_data"
    }
   ],
   "source": [
    "sole = sola.copy().drop('sola_id', axis=1)\n",
    "for i in range(10):\n",
    "    sole = pd.merge(sole, soladf[soladf.stopnja == i].groupby('sola').count().rename(columns={'stopnja': i}), how='outer', on='sola')\n",
    "sole = sole.T\n",
    "sole = sole.rename(columns={0: 'conjuration', 1: 'abjuration', 2: 'evocation', 3: 'necromancy', 4: 'transmutation', 5: 'encantment', 6: 'divination', 7: 'illusion'}).drop(\n",
    "    'sola', axis=0)\n",
    "st_urokov_po_stopnji = uroki_polni.groupby('stopnja').size()\n",
    "sole = sole.div(st_urokov_po_stopnji, axis=0)\n",
    "sole.plot.bar(stacked=True)\n",
    "    "
   ]
  },
  {
   "cell_type": "markdown",
   "metadata": {},
   "source": [
    "Opazimo, da tudi znotraj stopenj porazdelitve niso enakomerne. Kako pa se pomerijo po stopnjah?"
   ]
  },
  {
   "cell_type": "code",
   "execution_count": 429,
   "metadata": {},
   "outputs": [
    {
     "data": {
      "text/plain": [
       "<AxesSubplot:>"
      ]
     },
     "execution_count": 429,
     "metadata": {},
     "output_type": "execute_result"
    },
    {
     "data": {
      "image/png": "[encoded data removed]",
      "text/plain": [
       "<Figure size 432x288 with 1 Axes>"
      ]
     },
     "metadata": {
      "needs_background": "light"
     },
     "output_type": "display_data"
    }
   ],
   "source": [
    "sole.plot()"
   ]
  },
  {
   "cell_type": "markdown",
   "metadata": {},
   "source": [
    "Opazimo, da na vsaki od stopenj prevladujejo *conjuration*, *evocation* in *transmutation* šole. Katera od teh je pa v povprečju najbolj zastopana?"
   ]
  },
  {
   "cell_type": "code",
   "execution_count": 441,
   "metadata": {},
   "outputs": [
    {
     "data": {
      "text/plain": [
       "evocation        0.208782\n",
       "transmutation    0.201959\n",
       "conjuration      0.195110\n",
       "abjuration       0.102599\n",
       "encantment       0.099396\n",
       "necromancy       0.079196\n",
       "divination       0.067673\n",
       "illusion         0.058820\n",
       "dtype: float64"
      ]
     },
     "execution_count": 441,
     "metadata": {},
     "output_type": "execute_result"
    }
   ],
   "source": [
    "sole.mean().sort_values(ascending=False)"
   ]
  },
  {
   "cell_type": "markdown",
   "metadata": {},
   "source": [
    "V poprečju pride največ urokov iz *evocation* šole, najmanj pa iz šole *illusion*. Čeprav je *evocation* na vrhu, sta ji zelo blizu tudi *transmutation* in *conjuration*. Nadalje poglejmo, [kaj nam pove šola uroka][1] in kolikšen delež urokov zavzame:\n",
    "- *evocation*, 20%: sprostitev magične energije za napad,\n",
    "- *transmutation*, 20%: preobrazba snovi,\n",
    "- *conjuration*, 20%: ustvarjanje in uničevanje snovi,\n",
    "- *abjuration*, 10%: magična zaščita,\n",
    "- *enchantment*, 10%: magična nadgraditev,\n",
    "- *necromancy*, 8%: manipulacija življenjske energije,\n",
    "- *divination*, 6,5%: vedeževanje,\n",
    "- *illusion*, 5,5%: manipulacija čutov in dojemanja.\n",
    "\n",
    "[1]: <https://thealpinedm.com/dnd-5e-schools-of-magic/> \"Kratek opis šol.\""
   ]
  },
  {
   "cell_type": "markdown",
   "metadata": {},
   "source": [
    "## Zahteve\n",
    "\n",
    "Za izvedbo poljubnega uroka je potrebno zadostiti določenim kriterijem:\n",
    "- *snovnim:* potrebujemo sestavine ali\n",
    "- *gibalnim:* potrebni so premiki ali\n",
    "- *glasovnim:* izgovorjava uroka.\n",
    "Poleg zahtev za izvedbo, kriteriji predstavljajo tudi omejitve, saj se lahko znajdemo v okoliščinah, kjer se ne moremo premikat (smo pod vplivom uroka Hold Person, zvezani,..), ne moremo govorit (npr. urok Silence ali Hold Person) ali pa nimamo zadosti potrebščin. \n",
    "\n",
    "Postavim hipotezo, da ima vsak urok vsaj en kriterij."
   ]
  },
  {
   "cell_type": "code",
   "execution_count": 326,
   "metadata": {},
   "outputs": [],
   "source": [
    "def dodaj_crke(row):\n",
    "    niz = ''\n",
    "    if row.verbal:\n",
    "        niz += 'V'\n",
    "    if row.somatic:\n",
    "        niz += 'S'\n",
    "    if row.material:\n",
    "        niz += 'M'\n",
    "    return niz"
   ]
  },
  {
   "cell_type": "code",
   "execution_count": 327,
   "metadata": {},
   "outputs": [
    {
     "data": {
      "text/html": [
       "<div>\n",
       "<style scoped>\n",
       "    .dataframe tbody tr th:only-of-type {\n",
       "        vertical-align: middle;\n",
       "    }\n",
       "\n",
       "    .dataframe tbody tr th {\n",
       "        vertical-align: top;\n",
       "    }\n",
       "\n",
       "    .dataframe thead th {\n",
       "        text-align: right;\n",
       "    }\n",
       "</style>\n",
       "<table border=\"1\" class=\"dataframe\">\n",
       "  <thead>\n",
       "    <tr style=\"text-align: right;\">\n",
       "      <th></th>\n",
       "      <th>urok</th>\n",
       "      <th>verbal</th>\n",
       "      <th>somatic</th>\n",
       "      <th>material</th>\n",
       "      <th>niz</th>\n",
       "    </tr>\n",
       "  </thead>\n",
       "  <tbody>\n",
       "    <tr>\n",
       "      <th>0</th>\n",
       "      <td>Acid Splash</td>\n",
       "      <td>True</td>\n",
       "      <td>True</td>\n",
       "      <td>False</td>\n",
       "      <td>VS</td>\n",
       "    </tr>\n",
       "    <tr>\n",
       "      <th>1</th>\n",
       "      <td>Ice Knife</td>\n",
       "      <td>False</td>\n",
       "      <td>True</td>\n",
       "      <td>True</td>\n",
       "      <td>SM</td>\n",
       "    </tr>\n",
       "    <tr>\n",
       "      <th>2</th>\n",
       "      <td>Planar Ally</td>\n",
       "      <td>True</td>\n",
       "      <td>True</td>\n",
       "      <td>False</td>\n",
       "      <td>VS</td>\n",
       "    </tr>\n",
       "    <tr>\n",
       "      <th>3</th>\n",
       "      <td>Frostbite</td>\n",
       "      <td>True</td>\n",
       "      <td>True</td>\n",
       "      <td>False</td>\n",
       "      <td>VS</td>\n",
       "    </tr>\n",
       "    <tr>\n",
       "      <th>4</th>\n",
       "      <td>Ray of Frost</td>\n",
       "      <td>True</td>\n",
       "      <td>True</td>\n",
       "      <td>False</td>\n",
       "      <td>VS</td>\n",
       "    </tr>\n",
       "    <tr>\n",
       "      <th>...</th>\n",
       "      <td>...</td>\n",
       "      <td>...</td>\n",
       "      <td>...</td>\n",
       "      <td>...</td>\n",
       "      <td>...</td>\n",
       "    </tr>\n",
       "    <tr>\n",
       "      <th>556</th>\n",
       "      <td>Snare</td>\n",
       "      <td>True</td>\n",
       "      <td>True</td>\n",
       "      <td>True</td>\n",
       "      <td>VSM</td>\n",
       "    </tr>\n",
       "    <tr>\n",
       "      <th>557</th>\n",
       "      <td>Symbol</td>\n",
       "      <td>True</td>\n",
       "      <td>True</td>\n",
       "      <td>True</td>\n",
       "      <td>VSM</td>\n",
       "    </tr>\n",
       "    <tr>\n",
       "      <th>558</th>\n",
       "      <td>Forbiddance</td>\n",
       "      <td>True</td>\n",
       "      <td>True</td>\n",
       "      <td>True</td>\n",
       "      <td>VSM</td>\n",
       "    </tr>\n",
       "    <tr>\n",
       "      <th>559</th>\n",
       "      <td>Tsunami</td>\n",
       "      <td>True</td>\n",
       "      <td>True</td>\n",
       "      <td>False</td>\n",
       "      <td>VS</td>\n",
       "    </tr>\n",
       "    <tr>\n",
       "      <th>560</th>\n",
       "      <td>Dream of the Blue Veil</td>\n",
       "      <td>True</td>\n",
       "      <td>True</td>\n",
       "      <td>True</td>\n",
       "      <td>VSM</td>\n",
       "    </tr>\n",
       "  </tbody>\n",
       "</table>\n",
       "<p>561 rows × 5 columns</p>\n",
       "</div>"
      ],
      "text/plain": [
       "                       urok  verbal  somatic  material  niz\n",
       "0               Acid Splash    True     True     False   VS\n",
       "1                 Ice Knife   False     True      True   SM\n",
       "2               Planar Ally    True     True     False   VS\n",
       "3                 Frostbite    True     True     False   VS\n",
       "4              Ray of Frost    True     True     False   VS\n",
       "..                      ...     ...      ...       ...  ...\n",
       "556                   Snare    True     True      True  VSM\n",
       "557                  Symbol    True     True      True  VSM\n",
       "558             Forbiddance    True     True      True  VSM\n",
       "559                 Tsunami    True     True     False   VS\n",
       "560  Dream of the Blue Veil    True     True      True  VSM\n",
       "\n",
       "[561 rows x 5 columns]"
      ]
     },
     "execution_count": 327,
     "metadata": {},
     "output_type": "execute_result"
    }
   ],
   "source": [
    "uk = uroki_polni.loc[:, ('urok', 'verbal', 'somatic', 'material')]\n",
    "uk['niz'] = uk.apply(lambda row: dodaj_crke(row), axis=1)\n",
    "uk"
   ]
  },
  {
   "cell_type": "code",
   "execution_count": 328,
   "metadata": {},
   "outputs": [
    {
     "data": {
      "text/html": [
       "<div>\n",
       "<style scoped>\n",
       "    .dataframe tbody tr th:only-of-type {\n",
       "        vertical-align: middle;\n",
       "    }\n",
       "\n",
       "    .dataframe tbody tr th {\n",
       "        vertical-align: top;\n",
       "    }\n",
       "\n",
       "    .dataframe thead th {\n",
       "        text-align: right;\n",
       "    }\n",
       "</style>\n",
       "<table border=\"1\" class=\"dataframe\">\n",
       "  <thead>\n",
       "    <tr style=\"text-align: right;\">\n",
       "      <th></th>\n",
       "      <th>urok</th>\n",
       "      <th>verbal</th>\n",
       "      <th>somatic</th>\n",
       "      <th>material</th>\n",
       "      <th>niz</th>\n",
       "    </tr>\n",
       "  </thead>\n",
       "  <tbody>\n",
       "  </tbody>\n",
       "</table>\n",
       "</div>"
      ],
      "text/plain": [
       "Empty DataFrame\n",
       "Columns: [urok, verbal, somatic, material, niz]\n",
       "Index: []"
      ]
     },
     "execution_count": 328,
     "metadata": {},
     "output_type": "execute_result"
    }
   ],
   "source": [
    "uk[uk.niz == '']"
   ]
  },
  {
   "cell_type": "markdown",
   "metadata": {},
   "source": [
    "Ni uroka brez kriterjev. Koliko je pa takih z enim kriterijem in kateri od teh je najpogostejši?"
   ]
  },
  {
   "cell_type": "code",
   "execution_count": 329,
   "metadata": {},
   "outputs": [
    {
     "data": {
      "text/html": [
       "<div>\n",
       "<style scoped>\n",
       "    .dataframe tbody tr th:only-of-type {\n",
       "        vertical-align: middle;\n",
       "    }\n",
       "\n",
       "    .dataframe tbody tr th {\n",
       "        vertical-align: top;\n",
       "    }\n",
       "\n",
       "    .dataframe thead th {\n",
       "        text-align: right;\n",
       "    }\n",
       "</style>\n",
       "<table border=\"1\" class=\"dataframe\">\n",
       "  <thead>\n",
       "    <tr style=\"text-align: right;\">\n",
       "      <th></th>\n",
       "      <th>urok</th>\n",
       "      <th>verbal</th>\n",
       "      <th>somatic</th>\n",
       "      <th>material</th>\n",
       "      <th>niz</th>\n",
       "    </tr>\n",
       "  </thead>\n",
       "  <tbody>\n",
       "    <tr>\n",
       "      <th>18</th>\n",
       "      <td>Catapult</td>\n",
       "      <td>False</td>\n",
       "      <td>True</td>\n",
       "      <td>False</td>\n",
       "      <td>S</td>\n",
       "    </tr>\n",
       "    <tr>\n",
       "      <th>19</th>\n",
       "      <td>Knock</td>\n",
       "      <td>True</td>\n",
       "      <td>False</td>\n",
       "      <td>False</td>\n",
       "      <td>V</td>\n",
       "    </tr>\n",
       "    <tr>\n",
       "      <th>22</th>\n",
       "      <td>Vicious Mockery</td>\n",
       "      <td>True</td>\n",
       "      <td>False</td>\n",
       "      <td>False</td>\n",
       "      <td>V</td>\n",
       "    </tr>\n",
       "    <tr>\n",
       "      <th>23</th>\n",
       "      <td>Dissonant Whispers</td>\n",
       "      <td>True</td>\n",
       "      <td>False</td>\n",
       "      <td>False</td>\n",
       "      <td>V</td>\n",
       "    </tr>\n",
       "    <tr>\n",
       "      <th>24</th>\n",
       "      <td>Power Word: Pain</td>\n",
       "      <td>True</td>\n",
       "      <td>False</td>\n",
       "      <td>False</td>\n",
       "      <td>V</td>\n",
       "    </tr>\n",
       "    <tr>\n",
       "      <th>...</th>\n",
       "      <td>...</td>\n",
       "      <td>...</td>\n",
       "      <td>...</td>\n",
       "      <td>...</td>\n",
       "      <td>...</td>\n",
       "    </tr>\n",
       "    <tr>\n",
       "      <th>514</th>\n",
       "      <td>Encode Thoughts</td>\n",
       "      <td>False</td>\n",
       "      <td>True</td>\n",
       "      <td>False</td>\n",
       "      <td>S</td>\n",
       "    </tr>\n",
       "    <tr>\n",
       "      <th>524</th>\n",
       "      <td>Distort Value</td>\n",
       "      <td>True</td>\n",
       "      <td>False</td>\n",
       "      <td>False</td>\n",
       "      <td>V</td>\n",
       "    </tr>\n",
       "    <tr>\n",
       "      <th>528</th>\n",
       "      <td>Thaumaturgy</td>\n",
       "      <td>True</td>\n",
       "      <td>False</td>\n",
       "      <td>False</td>\n",
       "      <td>V</td>\n",
       "    </tr>\n",
       "    <tr>\n",
       "      <th>533</th>\n",
       "      <td>True Strike</td>\n",
       "      <td>False</td>\n",
       "      <td>True</td>\n",
       "      <td>False</td>\n",
       "      <td>S</td>\n",
       "    </tr>\n",
       "    <tr>\n",
       "      <th>548</th>\n",
       "      <td>Primal Savagery</td>\n",
       "      <td>False</td>\n",
       "      <td>True</td>\n",
       "      <td>False</td>\n",
       "      <td>S</td>\n",
       "    </tr>\n",
       "  </tbody>\n",
       "</table>\n",
       "<p>84 rows × 5 columns</p>\n",
       "</div>"
      ],
      "text/plain": [
       "                   urok  verbal  somatic  material niz\n",
       "18             Catapult   False     True     False   S\n",
       "19                Knock    True    False     False   V\n",
       "22      Vicious Mockery    True    False     False   V\n",
       "23   Dissonant Whispers    True    False     False   V\n",
       "24     Power Word: Pain    True    False     False   V\n",
       "..                  ...     ...      ...       ...  ..\n",
       "514     Encode Thoughts   False     True     False   S\n",
       "524       Distort Value    True    False     False   V\n",
       "528         Thaumaturgy    True    False     False   V\n",
       "533         True Strike   False     True     False   S\n",
       "548     Primal Savagery   False     True     False   S\n",
       "\n",
       "[84 rows x 5 columns]"
      ]
     },
     "execution_count": 329,
     "metadata": {},
     "output_type": "execute_result"
    }
   ],
   "source": [
    "uk[uk.apply(lambda row: len(row.niz) == 1, axis=1)]"
   ]
  },
  {
   "cell_type": "code",
   "execution_count": 330,
   "metadata": {},
   "outputs": [
    {
     "data": {
      "text/plain": [
       "<AxesSubplot:xlabel='niz'>"
      ]
     },
     "execution_count": 330,
     "metadata": {},
     "output_type": "execute_result"
    },
    {
     "data": {
      "image/png": "[encoded data removed]",
      "text/plain": [
       "<Figure size 432x288 with 1 Axes>"
      ]
     },
     "metadata": {
      "needs_background": "light"
     },
     "output_type": "display_data"
    }
   ],
   "source": [
    "uk[uk.apply(lambda row: len(row.niz) == 1, axis=1)].groupby('niz').size().sort_values(ascending=False).plot.bar()"
   ]
  },
  {
   "cell_type": "markdown",
   "metadata": {},
   "source": [
    "Kar 84 urokov ima skromne kriterije in noben izmed teh nima samo snovnih zahtev. Največ od teh zahteva le glasovno izvedbo."
   ]
  },
  {
   "cell_type": "code",
   "execution_count": 331,
   "metadata": {},
   "outputs": [
    {
     "data": {
      "text/html": [
       "<div>\n",
       "<style scoped>\n",
       "    .dataframe tbody tr th:only-of-type {\n",
       "        vertical-align: middle;\n",
       "    }\n",
       "\n",
       "    .dataframe tbody tr th {\n",
       "        vertical-align: top;\n",
       "    }\n",
       "\n",
       "    .dataframe thead th {\n",
       "        text-align: right;\n",
       "    }\n",
       "</style>\n",
       "<table border=\"1\" class=\"dataframe\">\n",
       "  <thead>\n",
       "    <tr style=\"text-align: right;\">\n",
       "      <th></th>\n",
       "      <th>urok</th>\n",
       "      <th>verbal</th>\n",
       "      <th>somatic</th>\n",
       "      <th>material</th>\n",
       "      <th>niz</th>\n",
       "    </tr>\n",
       "  </thead>\n",
       "  <tbody>\n",
       "    <tr>\n",
       "      <th>0</th>\n",
       "      <td>Acid Splash</td>\n",
       "      <td>True</td>\n",
       "      <td>True</td>\n",
       "      <td>False</td>\n",
       "      <td>VS</td>\n",
       "    </tr>\n",
       "    <tr>\n",
       "      <th>1</th>\n",
       "      <td>Ice Knife</td>\n",
       "      <td>False</td>\n",
       "      <td>True</td>\n",
       "      <td>True</td>\n",
       "      <td>SM</td>\n",
       "    </tr>\n",
       "    <tr>\n",
       "      <th>2</th>\n",
       "      <td>Planar Ally</td>\n",
       "      <td>True</td>\n",
       "      <td>True</td>\n",
       "      <td>False</td>\n",
       "      <td>VS</td>\n",
       "    </tr>\n",
       "    <tr>\n",
       "      <th>3</th>\n",
       "      <td>Frostbite</td>\n",
       "      <td>True</td>\n",
       "      <td>True</td>\n",
       "      <td>False</td>\n",
       "      <td>VS</td>\n",
       "    </tr>\n",
       "    <tr>\n",
       "      <th>4</th>\n",
       "      <td>Ray of Frost</td>\n",
       "      <td>True</td>\n",
       "      <td>True</td>\n",
       "      <td>False</td>\n",
       "      <td>VS</td>\n",
       "    </tr>\n",
       "    <tr>\n",
       "      <th>...</th>\n",
       "      <td>...</td>\n",
       "      <td>...</td>\n",
       "      <td>...</td>\n",
       "      <td>...</td>\n",
       "      <td>...</td>\n",
       "    </tr>\n",
       "    <tr>\n",
       "      <th>547</th>\n",
       "      <td>Prestidigitation</td>\n",
       "      <td>True</td>\n",
       "      <td>True</td>\n",
       "      <td>False</td>\n",
       "      <td>VS</td>\n",
       "    </tr>\n",
       "    <tr>\n",
       "      <th>549</th>\n",
       "      <td>Etherealness</td>\n",
       "      <td>True</td>\n",
       "      <td>True</td>\n",
       "      <td>False</td>\n",
       "      <td>VS</td>\n",
       "    </tr>\n",
       "    <tr>\n",
       "      <th>551</th>\n",
       "      <td>Skywrite</td>\n",
       "      <td>True</td>\n",
       "      <td>True</td>\n",
       "      <td>False</td>\n",
       "      <td>VS</td>\n",
       "    </tr>\n",
       "    <tr>\n",
       "      <th>554</th>\n",
       "      <td>Contagion</td>\n",
       "      <td>True</td>\n",
       "      <td>True</td>\n",
       "      <td>False</td>\n",
       "      <td>VS</td>\n",
       "    </tr>\n",
       "    <tr>\n",
       "      <th>559</th>\n",
       "      <td>Tsunami</td>\n",
       "      <td>True</td>\n",
       "      <td>True</td>\n",
       "      <td>False</td>\n",
       "      <td>VS</td>\n",
       "    </tr>\n",
       "  </tbody>\n",
       "</table>\n",
       "<p>208 rows × 5 columns</p>\n",
       "</div>"
      ],
      "text/plain": [
       "                 urok  verbal  somatic  material niz\n",
       "0         Acid Splash    True     True     False  VS\n",
       "1           Ice Knife   False     True      True  SM\n",
       "2         Planar Ally    True     True     False  VS\n",
       "3           Frostbite    True     True     False  VS\n",
       "4        Ray of Frost    True     True     False  VS\n",
       "..                ...     ...      ...       ...  ..\n",
       "547  Prestidigitation    True     True     False  VS\n",
       "549      Etherealness    True     True     False  VS\n",
       "551          Skywrite    True     True     False  VS\n",
       "554         Contagion    True     True     False  VS\n",
       "559           Tsunami    True     True     False  VS\n",
       "\n",
       "[208 rows x 5 columns]"
      ]
     },
     "execution_count": 331,
     "metadata": {},
     "output_type": "execute_result"
    }
   ],
   "source": [
    "uk[uk.apply(lambda row: len(row.niz) == 2, axis=1)]"
   ]
  },
  {
   "cell_type": "code",
   "execution_count": 332,
   "metadata": {},
   "outputs": [
    {
     "data": {
      "text/plain": [
       "<AxesSubplot:xlabel='niz'>"
      ]
     },
     "execution_count": 332,
     "metadata": {},
     "output_type": "execute_result"
    },
    {
     "data": {
      "image/png": "[encoded data removed]",
      "text/plain": [
       "<Figure size 432x288 with 1 Axes>"
      ]
     },
     "metadata": {
      "needs_background": "light"
     },
     "output_type": "display_data"
    }
   ],
   "source": [
    "uk[uk.apply(lambda row: len(row.niz) == 2, axis=1)].groupby('niz').size().sort_values(ascending=False).plot.bar()"
   ]
  },
  {
   "cell_type": "code",
   "execution_count": 333,
   "metadata": {},
   "outputs": [
    {
     "data": {
      "text/html": [
       "<div>\n",
       "<style scoped>\n",
       "    .dataframe tbody tr th:only-of-type {\n",
       "        vertical-align: middle;\n",
       "    }\n",
       "\n",
       "    .dataframe tbody tr th {\n",
       "        vertical-align: top;\n",
       "    }\n",
       "\n",
       "    .dataframe thead th {\n",
       "        text-align: right;\n",
       "    }\n",
       "</style>\n",
       "<table border=\"1\" class=\"dataframe\">\n",
       "  <thead>\n",
       "    <tr style=\"text-align: right;\">\n",
       "      <th></th>\n",
       "      <th>urok</th>\n",
       "      <th>verbal</th>\n",
       "      <th>somatic</th>\n",
       "      <th>material</th>\n",
       "      <th>niz</th>\n",
       "    </tr>\n",
       "  </thead>\n",
       "  <tbody>\n",
       "    <tr>\n",
       "      <th>0</th>\n",
       "      <td>Acid Splash</td>\n",
       "      <td>True</td>\n",
       "      <td>True</td>\n",
       "      <td>False</td>\n",
       "      <td>VS</td>\n",
       "    </tr>\n",
       "    <tr>\n",
       "      <th>2</th>\n",
       "      <td>Planar Ally</td>\n",
       "      <td>True</td>\n",
       "      <td>True</td>\n",
       "      <td>False</td>\n",
       "      <td>VS</td>\n",
       "    </tr>\n",
       "    <tr>\n",
       "      <th>3</th>\n",
       "      <td>Frostbite</td>\n",
       "      <td>True</td>\n",
       "      <td>True</td>\n",
       "      <td>False</td>\n",
       "      <td>VS</td>\n",
       "    </tr>\n",
       "    <tr>\n",
       "      <th>4</th>\n",
       "      <td>Ray of Frost</td>\n",
       "      <td>True</td>\n",
       "      <td>True</td>\n",
       "      <td>False</td>\n",
       "      <td>VS</td>\n",
       "    </tr>\n",
       "    <tr>\n",
       "      <th>5</th>\n",
       "      <td>Sacred Flame</td>\n",
       "      <td>True</td>\n",
       "      <td>True</td>\n",
       "      <td>False</td>\n",
       "      <td>VS</td>\n",
       "    </tr>\n",
       "    <tr>\n",
       "      <th>...</th>\n",
       "      <td>...</td>\n",
       "      <td>...</td>\n",
       "      <td>...</td>\n",
       "      <td>...</td>\n",
       "      <td>...</td>\n",
       "    </tr>\n",
       "    <tr>\n",
       "      <th>547</th>\n",
       "      <td>Prestidigitation</td>\n",
       "      <td>True</td>\n",
       "      <td>True</td>\n",
       "      <td>False</td>\n",
       "      <td>VS</td>\n",
       "    </tr>\n",
       "    <tr>\n",
       "      <th>549</th>\n",
       "      <td>Etherealness</td>\n",
       "      <td>True</td>\n",
       "      <td>True</td>\n",
       "      <td>False</td>\n",
       "      <td>VS</td>\n",
       "    </tr>\n",
       "    <tr>\n",
       "      <th>551</th>\n",
       "      <td>Skywrite</td>\n",
       "      <td>True</td>\n",
       "      <td>True</td>\n",
       "      <td>False</td>\n",
       "      <td>VS</td>\n",
       "    </tr>\n",
       "    <tr>\n",
       "      <th>554</th>\n",
       "      <td>Contagion</td>\n",
       "      <td>True</td>\n",
       "      <td>True</td>\n",
       "      <td>False</td>\n",
       "      <td>VS</td>\n",
       "    </tr>\n",
       "    <tr>\n",
       "      <th>559</th>\n",
       "      <td>Tsunami</td>\n",
       "      <td>True</td>\n",
       "      <td>True</td>\n",
       "      <td>False</td>\n",
       "      <td>VS</td>\n",
       "    </tr>\n",
       "  </tbody>\n",
       "</table>\n",
       "<p>183 rows × 5 columns</p>\n",
       "</div>"
      ],
      "text/plain": [
       "                 urok  verbal  somatic  material niz\n",
       "0         Acid Splash    True     True     False  VS\n",
       "2         Planar Ally    True     True     False  VS\n",
       "3           Frostbite    True     True     False  VS\n",
       "4        Ray of Frost    True     True     False  VS\n",
       "5        Sacred Flame    True     True     False  VS\n",
       "..                ...     ...      ...       ...  ..\n",
       "547  Prestidigitation    True     True     False  VS\n",
       "549      Etherealness    True     True     False  VS\n",
       "551          Skywrite    True     True     False  VS\n",
       "554         Contagion    True     True     False  VS\n",
       "559           Tsunami    True     True     False  VS\n",
       "\n",
       "[183 rows x 5 columns]"
      ]
     },
     "execution_count": 333,
     "metadata": {},
     "output_type": "execute_result"
    }
   ],
   "source": [
    "uk[uk.apply(lambda row: row.niz == 'VS', axis=1)]"
   ]
  },
  {
   "cell_type": "markdown",
   "metadata": {},
   "source": [
    "208 urokov ima dve zahtevi, od tega s 183 velika večina zaheva glasovno in gibalno izvedbo."
   ]
  },
  {
   "cell_type": "code",
   "execution_count": 334,
   "metadata": {},
   "outputs": [
    {
     "data": {
      "text/html": [
       "<div>\n",
       "<style scoped>\n",
       "    .dataframe tbody tr th:only-of-type {\n",
       "        vertical-align: middle;\n",
       "    }\n",
       "\n",
       "    .dataframe tbody tr th {\n",
       "        vertical-align: top;\n",
       "    }\n",
       "\n",
       "    .dataframe thead th {\n",
       "        text-align: right;\n",
       "    }\n",
       "</style>\n",
       "<table border=\"1\" class=\"dataframe\">\n",
       "  <thead>\n",
       "    <tr style=\"text-align: right;\">\n",
       "      <th></th>\n",
       "      <th>urok</th>\n",
       "      <th>verbal</th>\n",
       "      <th>somatic</th>\n",
       "      <th>material</th>\n",
       "      <th>niz</th>\n",
       "    </tr>\n",
       "  </thead>\n",
       "  <tbody>\n",
       "    <tr>\n",
       "      <th>6</th>\n",
       "      <td>Shatter</td>\n",
       "      <td>True</td>\n",
       "      <td>True</td>\n",
       "      <td>True</td>\n",
       "      <td>VSM</td>\n",
       "    </tr>\n",
       "    <tr>\n",
       "      <th>7</th>\n",
       "      <td>Widogast's Web of Fire (HB)</td>\n",
       "      <td>True</td>\n",
       "      <td>True</td>\n",
       "      <td>True</td>\n",
       "      <td>VSM</td>\n",
       "    </tr>\n",
       "    <tr>\n",
       "      <th>8</th>\n",
       "      <td>Flame Strike</td>\n",
       "      <td>True</td>\n",
       "      <td>True</td>\n",
       "      <td>True</td>\n",
       "      <td>VSM</td>\n",
       "    </tr>\n",
       "    <tr>\n",
       "      <th>21</th>\n",
       "      <td>Disintegrate</td>\n",
       "      <td>True</td>\n",
       "      <td>True</td>\n",
       "      <td>True</td>\n",
       "      <td>VSM</td>\n",
       "    </tr>\n",
       "    <tr>\n",
       "      <th>31</th>\n",
       "      <td>Infestation</td>\n",
       "      <td>True</td>\n",
       "      <td>True</td>\n",
       "      <td>True</td>\n",
       "      <td>VSM</td>\n",
       "    </tr>\n",
       "    <tr>\n",
       "      <th>...</th>\n",
       "      <td>...</td>\n",
       "      <td>...</td>\n",
       "      <td>...</td>\n",
       "      <td>...</td>\n",
       "      <td>...</td>\n",
       "    </tr>\n",
       "    <tr>\n",
       "      <th>555</th>\n",
       "      <td>Glyph of Warding</td>\n",
       "      <td>True</td>\n",
       "      <td>True</td>\n",
       "      <td>True</td>\n",
       "      <td>VSM</td>\n",
       "    </tr>\n",
       "    <tr>\n",
       "      <th>556</th>\n",
       "      <td>Snare</td>\n",
       "      <td>True</td>\n",
       "      <td>True</td>\n",
       "      <td>True</td>\n",
       "      <td>VSM</td>\n",
       "    </tr>\n",
       "    <tr>\n",
       "      <th>557</th>\n",
       "      <td>Symbol</td>\n",
       "      <td>True</td>\n",
       "      <td>True</td>\n",
       "      <td>True</td>\n",
       "      <td>VSM</td>\n",
       "    </tr>\n",
       "    <tr>\n",
       "      <th>558</th>\n",
       "      <td>Forbiddance</td>\n",
       "      <td>True</td>\n",
       "      <td>True</td>\n",
       "      <td>True</td>\n",
       "      <td>VSM</td>\n",
       "    </tr>\n",
       "    <tr>\n",
       "      <th>560</th>\n",
       "      <td>Dream of the Blue Veil</td>\n",
       "      <td>True</td>\n",
       "      <td>True</td>\n",
       "      <td>True</td>\n",
       "      <td>VSM</td>\n",
       "    </tr>\n",
       "  </tbody>\n",
       "</table>\n",
       "<p>269 rows × 5 columns</p>\n",
       "</div>"
      ],
      "text/plain": [
       "                            urok  verbal  somatic  material  niz\n",
       "6                        Shatter    True     True      True  VSM\n",
       "7    Widogast's Web of Fire (HB)    True     True      True  VSM\n",
       "8                   Flame Strike    True     True      True  VSM\n",
       "21                  Disintegrate    True     True      True  VSM\n",
       "31                   Infestation    True     True      True  VSM\n",
       "..                           ...     ...      ...       ...  ...\n",
       "555             Glyph of Warding    True     True      True  VSM\n",
       "556                        Snare    True     True      True  VSM\n",
       "557                       Symbol    True     True      True  VSM\n",
       "558                  Forbiddance    True     True      True  VSM\n",
       "560       Dream of the Blue Veil    True     True      True  VSM\n",
       "\n",
       "[269 rows x 5 columns]"
      ]
     },
     "execution_count": 334,
     "metadata": {},
     "output_type": "execute_result"
    }
   ],
   "source": [
    "uk[uk.apply(lambda row: len(row.niz) == 3, axis=1)]"
   ]
  },
  {
   "cell_type": "markdown",
   "metadata": {},
   "source": [
    "Preostalih 269 urokov ima najstrožje zahteve in zahteva poleg glasovne in gibalne izvedbe tudi snov."
   ]
  }
 ],
 "metadata": {
  "kernelspec": {
   "display_name": "Python 3.10.6 64-bit (windows store)",
   "language": "python",
   "name": "python3"
  },
  "language_info": {
   "codemirror_mode": {
    "name": "ipython",
    "version": 3
   },
   "file_extension": ".py",
   "mimetype": "text/x-python",
   "name": "python",
   "nbconvert_exporter": "python",
   "pygments_lexer": "ipython3",
   "version": "3.10.6"
  },
  "orig_nbformat": 4,
  "vscode": {
   "interpreter": {
    "hash": "a9f1f59101e07bffb7c2ecfaca1a3c7ffe3cd326ee75e914ab1b038684b38c5a"
   }
  }
 },
 "nbformat": 4,
 "nbformat_minor": 2
}
